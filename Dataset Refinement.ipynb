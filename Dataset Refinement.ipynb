{
 "cells": [
  {
   "cell_type": "markdown",
   "metadata": {
    "colab": {},
    "colab_type": "code",
    "id": "CT5x9pIjHXhi"
   },
   "source": [
    "# Data refinement"
   ]
  },
  {
   "cell_type": "markdown",
   "metadata": {},
   "source": [
    "With this Jupyter Notebook i can do diferent operations in the original images i have to resize, move or translate for my Neural Network.\n",
    "\n",
    "I have a lot of videos and i m going to take frames from them. I will refine that frames to have the images for our Keras Neural Network"
   ]
  },
  {
   "cell_type": "code",
   "execution_count": 10,
   "metadata": {},
   "outputs": [],
   "source": [
    "import numpy as np\n",
    "import matplotlib.pyplot as plt\n",
    "from PIL import Image\n",
    "import glob\n",
    "import cv2\n",
    "import os,shutil\n",
    "import random\n",
    "import time\n",
    "\n",
    "def printAndRemove(msg):\n",
    "    print(msg, end=\"\\r\")\n",
    "    time.sleep(0)"
   ]
  },
  {
   "cell_type": "markdown",
   "metadata": {},
   "source": [
    "# Extract images from videos"
   ]
  },
  {
   "cell_type": "markdown",
   "metadata": {},
   "source": [
    "With this code i will take the images from my videos:"
   ]
  },
  {
   "cell_type": "code",
   "execution_count": 11,
   "metadata": {},
   "outputs": [
    {
     "name": "stdout",
     "output_type": "stream",
     "text": [
      "Working on image nº33227\n",
      "Done!\n"
     ]
    }
   ],
   "source": [
    "#size = 1920, 1080\n",
    "#size = 960, 540\n",
    "#size = 480, 270\n",
    "#size = 240, 135\n",
    "size = 128, 72\n",
    "#size = 96, 54\n",
    "\n",
    "path = \"\"\n",
    "saveIn = \"data\"\n",
    "\n",
    "if os.path.isdir(path + saveIn):\n",
    "    shutil.rmtree(path + saveIn)\n",
    "os.makedirs(path + saveIn)\n",
    "os.makedirs(path + saveIn + \"/train\")\n",
    "os.makedirs(path + saveIn + \"/validation\")\n",
    "\n",
    "i=0\n",
    "\n",
    "imgNumber = 0\n",
    "trainingPerNode = []\n",
    "numberImagesInThisNode = 0\n",
    "for video in glob.glob(path + \"Nodes/*.mp4\"):\n",
    "    i=i+1\n",
    "    newDir = video.split('.')[0].split('_')[0].split('\\\\')\n",
    "    newDir = newDir[len(newDir)-1]\n",
    "    if not os.path.exists(path + saveIn + \"/train/\" + newDir):\n",
    "        numberImagesInThisNode = 0\n",
    "        os.makedirs(path + saveIn + \"/train/\" + newDir)\n",
    "    if not os.path.exists(path + saveIn + \"/validation/\" + newDir):\n",
    "        os.makedirs(path + saveIn + \"/validation/\" + newDir)\n",
    "    \n",
    "    cap = cv2.VideoCapture(video)\n",
    "    frameWidth = int(cap.get(cv2.CAP_PROP_FRAME_WIDTH))\n",
    "    frameHeight = int(cap.get(cv2.CAP_PROP_FRAME_HEIGHT))\n",
    "\n",
    "    currentframe = 0\n",
    "    \n",
    "    while(cap.isOpened()):\n",
    "        ret, frame = cap.read()\n",
    "        if ret:\n",
    "            printAndRemove(\"Working on image nº\" + str(imgNumber))\n",
    "            \n",
    "            frame = cv2.cvtColor(frame, cv2.COLOR_BGR2RGB)\n",
    "            frame = Image.fromarray(frame)\n",
    "            if(i != 15):\n",
    "                frame = frame.rotate(180)\n",
    "            frame.thumbnail(size, Image.ANTIALIAS)\n",
    "            frame.save(path + saveIn + \"/train/\" + newDir + \"/img\" + str(imgNumber) + \".jpg\", \"JPEG\")\n",
    "            \n",
    "            numberImagesInThisNode += 1\n",
    "            imgNumber += 1\n",
    "        else:\n",
    "            break\n",
    "    trainingPerNode.append(numberImagesInThisNode)\n",
    "cap.release()\n",
    "cv2.destroyAllWindows()\n",
    "\n",
    "validationPerNode = []\n",
    "node=0\n",
    "for directory in glob.glob(path + saveIn + \"/train/*\"):\n",
    "    directory = directory.split('\\\\')[1]\n",
    "    validationImages = 0\n",
    "    while validationImages < trainingPerNode[node]/10:\n",
    "        for img in glob.glob(path + saveIn + \"/train/\" + directory + \"/*.jpg\"):\n",
    "            if(validationImages < trainingPerNode[node]/10):\n",
    "                r = random.randint(0, 100)\n",
    "                if(r<15):\n",
    "                    shutil.move(img, path + saveIn + \"/validation/\" + directory)\n",
    "                    validationImages += 1\n",
    "    node += 1\n",
    "    validationPerNode.append(validationImages)\n",
    "\n",
    "\n",
    "print(\"\")\n",
    "print(\"Done!\")"
   ]
  },
  {
   "cell_type": "markdown",
   "metadata": {},
   "source": [
    "# Count images"
   ]
  },
  {
   "cell_type": "markdown",
   "metadata": {},
   "source": [
    "With this code i will count all the data i have"
   ]
  },
  {
   "cell_type": "code",
   "execution_count": 12,
   "metadata": {
    "scrolled": false
   },
   "outputs": [
    {
     "name": "stdout",
     "output_type": "stream",
     "text": [
      "Training\n",
      "\n",
      "Nodo1\n",
      "\tTotal images in Nodo1: 5169\n",
      "Nodo2\n",
      "\tTotal images in Nodo2: 2189\n",
      "Nodo3\n",
      "\tTotal images in Nodo3: 4058\n",
      "Nodo4\n",
      "\tTotal images in Nodo4: 2781\n",
      "Nodo5\n",
      "\tTotal images in Nodo5: 11156\n",
      "Nodo6\n",
      "\tTotal images in Nodo6: 1674\n",
      "Nodo7\n",
      "\tTotal images in Nodo7: 3731\n",
      "\n",
      "Validation\n",
      "\n",
      "Nodo1\n",
      "\tTotal images in Nodo1: 121\n",
      "Nodo2\n",
      "\tTotal images in Nodo2: 228\n",
      "Nodo3\n",
      "\tTotal images in Nodo3: 316\n",
      "Nodo4\n",
      "\tTotal images in Nodo4: 340\n",
      "Nodo5\n",
      "\tTotal images in Nodo5: 426\n",
      "Nodo6\n",
      "\tTotal images in Nodo6: 510\n",
      "Nodo7\n",
      "\tTotal images in Nodo7: 529\n"
     ]
    }
   ],
   "source": [
    "path = \"\"\n",
    "saveIn = \"data\"\n",
    "\n",
    "def countImages(directory):\n",
    "    count=0\n",
    "    for img in glob.glob(directory + \"/*.jpg\"):\n",
    "        count = count + 1\n",
    "    return count\n",
    "\n",
    "training = []\n",
    "print(\"Training\\n\")\n",
    "for directory in glob.glob(path + saveIn + \"/train/*\"):\n",
    "    numImages = countImages(directory)\n",
    "    nodeName = directory.split('\\\\')[1]\n",
    "    print(nodeName + \"\")\n",
    "    print(\"\\tTotal images in \"+ str(nodeName) +\": \" +  str(numImages))\n",
    "    training.append(numImages)\n",
    "\n",
    "print(\"\\nValidation\\n\")\n",
    "for directory in glob.glob(path + saveIn + \"/validation/*\"):\n",
    "    numImages = countImages(directory)\n",
    "    nodeName = directory.split('\\\\')[1]\n",
    "    print(nodeName + \"\")\n",
    "    print(\"\\tTotal images in \"+ str(nodeName) +\": \" +  str(numImages))"
   ]
  },
  {
   "cell_type": "markdown",
   "metadata": {},
   "source": [
    "# Disperse images"
   ]
  },
  {
   "cell_type": "markdown",
   "metadata": {},
   "source": [
    "With this code i will disperse all the images i have. With this i expect to dont have our images in the training in a sequential order and improve the training"
   ]
  },
  {
   "cell_type": "code",
   "execution_count": 13,
   "metadata": {},
   "outputs": [
    {
     "name": "stdout",
     "output_type": "stream",
     "text": [
      "Training\n",
      "\n",
      "Nodo1\n",
      "\tTotal images in Nodo1: 5169\n",
      "Nodo2\n",
      "\tTotal images in Nodo2: 2189\n",
      "Nodo3\n",
      "\tTotal images in Nodo3: 4058\n",
      "Nodo4\n",
      "\tTotal images in Nodo4: 2781\n",
      "Nodo5\n",
      "\tTotal images in Nodo5: 11156\n",
      "Nodo6\n",
      "\tTotal images in Nodo6: 1674\n",
      "Nodo7\n",
      "\tTotal images in Nodo7: 3731\n"
     ]
    }
   ],
   "source": [
    "import random\n",
    "\n",
    "def disperse(directory):\n",
    "    # We create the temporal file\n",
    "    if os.path.isdir(directory + \"temp\"):\n",
    "        shutil.rmtree(directory + \"temp\")\n",
    "    os.makedirs(directory + \"temp\")\n",
    "    # We count the images\n",
    "    numberOfImagesInDirectory = countImages(directory)\n",
    "    # We change the name of all the images in the file\n",
    "    for image in glob.glob(directory + \"/*.jpg\"):\n",
    "        nameIsUsed = True\n",
    "        newName = \"\"\n",
    "        # No collision with other images names\n",
    "        while(nameIsUsed):\n",
    "            newName = \"img\" + str(numberOfImagesInDirectory + random.randint(0, 100000))\n",
    "            if(os.path.isfile(directory + \"temp/\" + newName + \".jpg\")):\n",
    "                nameIsUsed = True\n",
    "            else:\n",
    "                nameIsUsed = False\n",
    "        # We rename the file\n",
    "        os.rename(image, directory + \"temp/\" + newName + \".jpg\")\n",
    "    for image in glob.glob(directory + \"temp/*.jpg\"):\n",
    "        temporal = image.split(\"temp\")\n",
    "        shutil.move(image,temporal[0]+temporal[1])\n",
    "    shutil.rmtree(directory + \"temp\")\n",
    "\n",
    "for directory in glob.glob(path + saveIn + \"/train/*\"):\n",
    "    disperse(directory)\n",
    "\n",
    "training = []\n",
    "print(\"Training\\n\")\n",
    "for directory in glob.glob(path + saveIn + \"/train/*\"):\n",
    "    numImages = countImages(directory)\n",
    "    nodeName = directory.split('\\\\')[1]\n",
    "    print(nodeName + \"\")\n",
    "    print(\"\\tTotal images in \"+ str(nodeName) +\": \" +  str(numImages))\n",
    "    training.append(numImages)"
   ]
  },
  {
   "cell_type": "code",
   "execution_count": null,
   "metadata": {},
   "outputs": [],
   "source": []
  }
 ],
 "metadata": {
  "colab": {
   "collapsed_sections": [],
   "name": "Dataset Refinement.ipynb",
   "provenance": [],
   "version": "0.3.2"
  },
  "kernelspec": {
   "display_name": "Python 3",
   "language": "python",
   "name": "python3"
  },
  "language_info": {
   "codemirror_mode": {
    "name": "ipython",
    "version": 3
   },
   "file_extension": ".py",
   "mimetype": "text/x-python",
   "name": "python",
   "nbconvert_exporter": "python",
   "pygments_lexer": "ipython3",
   "version": "3.7.2"
  }
 },
 "nbformat": 4,
 "nbformat_minor": 1
}
